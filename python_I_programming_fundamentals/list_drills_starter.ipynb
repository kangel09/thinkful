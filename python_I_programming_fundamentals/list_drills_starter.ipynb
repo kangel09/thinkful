{
  "nbformat": 4,
  "nbformat_minor": 0,
  "metadata": {
    "kernelspec": {
      "display_name": "Python 3",
      "language": "python",
      "name": "python3"
    },
    "language_info": {
      "codemirror_mode": {
        "name": "ipython",
        "version": 3
      },
      "file_extension": ".py",
      "mimetype": "text/x-python",
      "name": "python",
      "nbconvert_exporter": "python",
      "pygments_lexer": "ipython3",
      "version": "3.7.0"
    },
    "colab": {
      "name": "list_drills_starter.ipynb",
      "provenance": [],
      "collapsed_sections": [],
      "include_colab_link": true
    }
  },
  "cells": [
    {
      "cell_type": "markdown",
      "metadata": {
        "id": "view-in-github",
        "colab_type": "text"
      },
      "source": [
        "<a href=\"https://colab.research.google.com/github/kristi-thinkful/thinkful-solutions/blob/master/python_I_programming_fundamentals/list_drills_starter.ipynb\" target=\"_parent\"><img src=\"https://colab.research.google.com/assets/colab-badge.svg\" alt=\"Open In Colab\"/></a>"
      ]
    },
    {
      "cell_type": "markdown",
      "metadata": {
        "id": "h19dHMgRyYqI",
        "colab_type": "text"
      },
      "source": [
        "##Kristi Angel\n",
        "*List Drills*  \n",
        "*Technical Expert, Data Science*  \n",
        "*2019-11-15*"
      ]
    },
    {
      "cell_type": "markdown",
      "metadata": {
        "id": "Mbz_x_gwxCXC",
        "colab_type": "text"
      },
      "source": [
        "## 1: `longest_word_length`\n",
        "\n",
        "Create a function called `longest_word` that takes one argument, a list of words, and returns the length of the longest word in the list.\n",
        "\n",
        "For example, `longest_word(['simple', 'is', 'better', 'than', 'complex'])` should return 7 because the longest word there is complex, at 7 characters.\n",
        "\n",
        "Your function should *not* modify the input list."
      ]
    },
    {
      "cell_type": "code",
      "metadata": {
        "id": "TRTYFmvDxCXF",
        "colab_type": "code",
        "colab": {
          "base_uri": "https://localhost:8080/",
          "height": 34
        },
        "outputId": "95bce251-9300-4727-ff00-9aa53e4f0b54"
      },
      "source": [
        "def longest_word(word_list):\n",
        "  length = []\n",
        "  for word in word_list:\n",
        "    length.append(len(word))\n",
        "  return max(length)\n",
        "print(longest_word(['simple', 'is', 'better', 'than', 'complex']))"
      ],
      "execution_count": 8,
      "outputs": [
        {
          "output_type": "stream",
          "text": [
            "7\n"
          ],
          "name": "stdout"
        }
      ]
    },
    {
      "cell_type": "markdown",
      "metadata": {
        "id": "aBzaohKcxCXI",
        "colab_type": "text"
      },
      "source": [
        "## 2: `calculate_grade`\n",
        "\n",
        "You're a statistics professor and the deadline for submitting your students' grades is tonight at midnight. Each student's grade is determined by their mean score across all of the tests they took this semester.\n",
        "\n",
        "You've decided to automate grade calculation by writing a function `calculate_grade` that takes a list of test scores as an argument and returns a one character string representing the student's grade calculated as follows:\n",
        "\n",
        "```\n",
        "90% <= mean score <= 100%: \"A\",\n",
        "80% <= mean score < 90%: \"B\",\n",
        "70% <= mean score < 80%: \"C\",\n",
        "60% <= mean score < 70%: \"D\",\n",
        "mean score < 60%: \"F\"\n",
        "```\n",
        "\n",
        "\n",
        "For example, `calculate_grade([92, 94, 99])` would return \"A\" since the mean score is 95, and `calculate_grade([50, 60, 70, 80, 90])` would return \"C\" since the mean score is 70.\n",
        "\n",
        "Your function should handle an input list of any length greater than zero."
      ]
    },
    {
      "cell_type": "code",
      "metadata": {
        "id": "6T7KUxiWxCXI",
        "colab_type": "code",
        "colab": {
          "base_uri": "https://localhost:8080/",
          "height": 51
        },
        "outputId": "a0a53f9a-de2f-406c-8927-593784690e43"
      },
      "source": [
        "def calculate_grade(student_grade_list):\n",
        "  mean_grade = sum(student_grade_list) / len(student_grade_list)\n",
        "  print(mean_grade)\n",
        "  if mean_grade >= 90: \n",
        "    return 'A' \n",
        "  elif mean_grade >= 80: \n",
        "    return 'B' \n",
        "  elif mean_grade >= 70: \n",
        "    return 'C' \n",
        "  elif mean_grade >= 60: \n",
        "    return 'D' \n",
        "  else: \n",
        "    return 'F'\n",
        "\n",
        "calculate_grade([50, 60, 70, 80, 90])"
      ],
      "execution_count": 16,
      "outputs": [
        {
          "output_type": "stream",
          "text": [
            "70.0\n"
          ],
          "name": "stdout"
        },
        {
          "output_type": "execute_result",
          "data": {
            "text/plain": [
              "'C'"
            ]
          },
          "metadata": {
            "tags": []
          },
          "execution_count": 16
        }
      ]
    },
    {
      "cell_type": "markdown",
      "metadata": {
        "id": "FzUWuurhxCXK",
        "colab_type": "text"
      },
      "source": [
        "## 3: `process_data`\n",
        "\n",
        "You have a two-dimensional list in the following format:\n",
        "\n",
        "```python\n",
        "data = [[2, 5], [3, 4], [8, 7]]\n",
        "```\n",
        "\n",
        "Each sub-list contains two items, and each item in the sub-lists is an integer.\n",
        "\n",
        "Write a function `process_data` that processes each sub-list like so:\n",
        "\n",
        "```\n",
        "[2, 5] --> 2 - 5 --> -3\n",
        "[3, 4] --> 3 - 4 --> -1\n",
        "[8, 7] --> 8 - 7 --> 1\n",
        "```\n",
        "\n",
        "and then returns the product of all the processed sub-lists: -3 * -1 * 1 --> 3.\n",
        "d\n",
        "For input, you can trust that neither the main list nor the sublists will be empty."
      ]
    },
    {
      "cell_type": "code",
      "metadata": {
        "id": "toO9x-5KxCXL",
        "colab_type": "code",
        "colab": {
          "base_uri": "https://localhost:8080/",
          "height": 34
        },
        "outputId": "85fcf3f3-ca82-46d1-ffc9-1a5e58c703bc"
      },
      "source": [
        "def process_data(data):\n",
        "  sums = []\n",
        "  for sublist in data:\n",
        "    sums.append(sublist[0] - sublist[1])\n",
        "  product = 1\n",
        "  for num in sums:\n",
        "    product *= num\n",
        "  return product\n",
        "\n",
        "print(process_data([[2, 5], [3, 4], [8, 7]]))"
      ],
      "execution_count": 21,
      "outputs": [
        {
          "output_type": "stream",
          "text": [
            "3\n"
          ],
          "name": "stdout"
        }
      ]
    }
  ]
}