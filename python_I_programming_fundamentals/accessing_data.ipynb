{
  "nbformat": 4,
  "nbformat_minor": 0,
  "metadata": {
    "colab": {
      "name": "accessing_data.ipynb",
      "provenance": [],
      "collapsed_sections": [],
      "include_colab_link": true
    },
    "kernelspec": {
      "name": "python3",
      "display_name": "Python 3"
    }
  },
  "cells": [
    {
      "cell_type": "markdown",
      "metadata": {
        "id": "view-in-github",
        "colab_type": "text"
      },
      "source": [
        "<a href=\"https://colab.research.google.com/github/kristi-thinkful/thinkful-solutions/blob/master/python_I_programming_fundamentals/accessing_data.ipynb\" target=\"_parent\"><img src=\"https://colab.research.google.com/assets/colab-badge.svg\" alt=\"Open In Colab\"/></a>"
      ]
    },
    {
      "cell_type": "code",
      "metadata": {
        "id": "WzWYLgIXdRnF",
        "colab_type": "code",
        "colab": {
          "base_uri": "https://localhost:8080/",
          "height": 54
        },
        "outputId": "4b4c4728-b678-476a-c4a3-89aad2643f13"
      },
      "source": [
        "# key \n",
        "\n",
        "import requests\n",
        "\n",
        "url = 'https://api.harvardartmuseums.org/person?q=culture=British'\n",
        "query = {'apikey': 'e56c8c80-0988-11ea-b4e5-43270f399fa7'}\n",
        "response = requests.get(url, query)\n",
        "response.ok\n",
        "\n",
        "data = response.json()\n",
        "print(data)"
      ],
      "execution_count": 13,
      "outputs": [
        {
          "output_type": "stream",
          "text": [
            "{'info': {'totalrecordsperquery': 10, 'totalrecords': 1899, 'pages': 190, 'page': 1, 'next': 'https://api.harvardartmuseums.org/person?q=culture%3DBritish&apikey=e56c8c80-0988-11ea-b4e5-43270f399fa7&page=2'}, 'records': [{'dateend': 0, 'alphasort': 'Culture Espaces', 'displaydate': None, 'url': 'https://www.harvardartmuseums.org/collections/person/12701', 'deathplace': None, 'id': 12701, 'objectcount': 0, 'lastupdate': '2019-11-13T04:47:02-0500', 'datebegin': 0, 'birthplace': None, 'personid': 12701, 'gender': 'unknown', 'culture': None, 'displayname': 'Culture Espaces'}, {'dateend': 9999, 'alphasort': 'Culture Hustle', 'displaydate': None, 'url': 'https://www.harvardartmuseums.org/collections/person/66877', 'deathplace': None, 'id': 66877, 'objectcount': 9, 'lastupdate': '2019-11-13T05:02:07-0500', 'datebegin': 2004, 'birthplace': None, 'personid': 66877, 'gender': 'unknown', 'culture': None, 'displayname': 'Culture Hustle'}, {'dateend': 0, 'alphasort': 'Techniques and Culture', 'displaydate': None, 'url': 'https://www.harvardartmuseums.org/collections/person/8834', 'deathplace': None, 'id': 8834, 'objectcount': 0, 'lastupdate': '2019-11-13T04:45:41-0500', 'datebegin': 0, 'birthplace': None, 'personid': 8834, 'gender': 'unknown', 'culture': None, 'displayname': 'Techniques and Culture'}, {'dateend': 0, 'alphasort': 'Ministry of Culture, Sports and Tourism', 'displaydate': None, 'url': 'https://www.harvardartmuseums.org/collections/person/56988', 'deathplace': None, 'id': 56988, 'objectcount': 0, 'lastupdate': '2019-11-13T05:06:46-0500', 'datebegin': 0, 'birthplace': None, 'personid': 56988, 'gender': 'unknown', 'culture': None, 'displayname': 'Ministry of Culture, Sports and Tourism'}, {'dateend': 0, 'alphasort': 'P Art and Culture Magazine', 'displaydate': None, 'url': 'https://www.harvardartmuseums.org/collections/person/9835', 'deathplace': None, 'id': 9835, 'objectcount': 0, 'lastupdate': '2019-11-13T04:47:17-0500', 'datebegin': 0, 'birthplace': None, 'personid': 9835, 'gender': 'unknown', 'culture': None, 'displayname': 'P Art and Culture Magazine'}, {'dateend': 0, 'alphasort': 'Ministere de la culture...', 'displaydate': None, 'url': 'https://www.harvardartmuseums.org/collections/person/42244', 'deathplace': None, 'id': 42244, 'objectcount': 0, 'lastupdate': '2019-11-13T04:59:07-0500', 'datebegin': 0, 'birthplace': None, 'personid': 42244, 'gender': 'unknown', 'culture': None, 'displayname': 'Ministere de la culture...'}, {'dateend': 0, 'alphasort': 'Omohundro Institute of Early American History and Culture', 'displaydate': None, 'url': 'https://www.harvardartmuseums.org/collections/person/13006', 'deathplace': None, 'id': 13006, 'objectcount': 0, 'lastupdate': '2019-11-13T04:46:11-0500', 'datebegin': 0, 'birthplace': None, 'personid': 13006, 'gender': 'unknown', 'culture': None, 'displayname': 'Omohundro Institute of Early American History and Culture'}, {'dateend': 0, 'alphasort': 'The Academy of Oriental Culture, Kyoto Institute', 'displaydate': None, 'url': 'https://www.harvardartmuseums.org/collections/person/61421', 'deathplace': None, 'id': 61421, 'objectcount': 0, 'lastupdate': '2019-11-13T05:00:07-0500', 'datebegin': 0, 'birthplace': None, 'personid': 61421, 'gender': 'unknown', 'culture': None, 'displayname': 'The Academy of Oriental Culture, Kyoto Institute'}, {'dateend': 0, 'alphasort': 'National Council for Culture, Arts and Heritage', 'displaydate': None, 'url': 'https://www.harvardartmuseums.org/collections/person/42782', 'deathplace': None, 'id': 42782, 'objectcount': 0, 'lastupdate': '2019-11-13T04:57:54-0500', 'datebegin': 0, 'birthplace': None, 'personid': 42782, 'gender': 'unknown', 'culture': None, 'displayname': 'National Council for Culture, Arts and Heritage'}, {'dateend': 0, 'alphasort': \"Centre National d'Art et de Culture Georges Pompidou\", 'displaydate': None, 'url': 'https://www.harvardartmuseums.org/collections/person/10173', 'deathplace': None, 'id': 10173, 'objectcount': 0, 'lastupdate': '2019-11-13T05:03:16-0500', 'datebegin': 0, 'birthplace': None, 'personid': 10173, 'gender': 'unknown', 'culture': None, 'displayname': \"Centre National d'Art et de Culture Georges Pompidou\"}]}\n"
          ],
          "name": "stdout"
        }
      ]
    },
    {
      "cell_type": "code",
      "metadata": {
        "id": "csQkb6d8hShH",
        "colab_type": "code",
        "colab": {}
      },
      "source": [
        "content = data['records']"
      ],
      "execution_count": 0,
      "outputs": []
    }
  ]
}