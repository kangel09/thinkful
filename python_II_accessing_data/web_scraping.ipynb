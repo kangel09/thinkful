{
  "nbformat": 4,
  "nbformat_minor": 0,
  "metadata": {
    "colab": {
      "name": "web_scraping.ipynb",
      "provenance": [],
      "collapsed_sections": []
    },
    "kernelspec": {
      "name": "python3",
      "display_name": "Python 3"
    }
  },
  "cells": [
    {
      "cell_type": "markdown",
      "metadata": {
        "id": "531RT-w876b3",
        "colab_type": "text"
      },
      "source": [
        "##**Assignment**\n",
        "Write a program to scrape news from the https://www.space.com/news web page. You should submit a notebook that contains a function that can be run that retrieves the space.com news page, extracts the news stories, and prints out the headline, author, synopsis, and date and time for each story.\n",
        "\n",
        "Hint: Use Chrome Developer tools to examine the structure of the page to find the HTML for the articles, then use requests and BeautifulSoup to explore extracting the data that you need.\n",
        "\n",
        "Note that some of the items in the news list are sponsored ads and even though they look like news stories they are structurally different in the code. You can ignore those and just scrape the news itself.\n",
        "\n",
        "Optionally, if you wish to challenge yourself, have your spider follow the next link at the bottom of the page and scrape even more news stories.\n",
        "\n",
        "Submit a link to your notebook below."
      ]
    },
    {
      "cell_type": "code",
      "metadata": {
        "id": "I_0TQ6X075t4",
        "colab_type": "code",
        "colab": {}
      },
      "source": [
        "from bs4 import BeautifulSoup\n",
        "import requests"
      ],
      "execution_count": 0,
      "outputs": []
    }
  ]
}