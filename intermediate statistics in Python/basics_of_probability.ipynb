{
  "nbformat": 4,
  "nbformat_minor": 0,
  "metadata": {
    "colab": {
      "name": "basics_of_probability.ipynb",
      "provenance": [],
      "collapsed_sections": [],
      "include_colab_link": true
    },
    "kernelspec": {
      "name": "python3",
      "display_name": "Python 3"
    }
  },
  "cells": [
    {
      "cell_type": "markdown",
      "metadata": {
        "id": "view-in-github",
        "colab_type": "text"
      },
      "source": [
        "<a href=\"https://colab.research.google.com/github/kristi-thinkful/thinkful-solutions/blob/master/intermediate%20statistics%20in%20Python/basics_of_probability.ipynb\" target=\"_parent\"><img src=\"https://colab.research.google.com/assets/colab-badge.svg\" alt=\"Open In Colab\"/></a>"
      ]
    },
    {
      "cell_type": "markdown",
      "metadata": {
        "id": "52E2s4pOtLMf",
        "colab_type": "text"
      },
      "source": [
        "###Drill Set 1\n",
        "1. Calculate the probability of flipping a balanced coin four times and getting each pattern: HTTH, HHHH and TTHH."
      ]
    },
    {
      "cell_type": "code",
      "metadata": {
        "id": "iQV0W66izjAV",
        "colab_type": "code",
        "colab": {}
      },
      "source": [
        "# this code allows the display of output from multiple calls without requiring print() each time\n",
        "from IPython.core.interactiveshell import InteractiveShell\n",
        "InteractiveShell.ast_node_interactivity = \"all\"\n",
        "import numpy as np\n",
        "import pandas as pd\n",
        "import seaborn as sns\n",
        "import warnings\n",
        "warnings.filterwarnings(\"ignore\")\n",
        "sns.set()"
      ],
      "execution_count": 0,
      "outputs": []
    },
    {
      "cell_type": "code",
      "metadata": {
        "id": "bXXY6nQWzgGW",
        "colab_type": "code",
        "colab": {
          "base_uri": "https://localhost:8080/",
          "height": 68
        },
        "outputId": "39270de6-f314-4e99-f422-2eb996174051"
      },
      "source": [
        "p = 0.5\n",
        "htth = p**4\n",
        "hhhh = p**4\n",
        "tthh = p**4\n",
        "print('The probability of HTTH is {}. \\nThe probability of HHHH is {}. \\nThe probability of TTHH is {}.'.format(htth, hhhh, tthh))"
      ],
      "execution_count": 11,
      "outputs": [
        {
          "output_type": "stream",
          "text": [
            "The probability of HTTH is 0.0625. \n",
            "The probability of HHHH is 0.0625. \n",
            "The probability of TTHH is 0.0625.\n"
          ],
          "name": "stdout"
        }
      ]
    },
    {
      "cell_type": "markdown",
      "metadata": {
        "id": "HJn2Z9NZzY_k",
        "colab_type": "text"
      },
      "source": [
        "\n",
        "2. If a list of people has 24 women and 21 men, then the probability of choosing a man from the list is 21/45. What is the probability of not choosing a man?"
      ]
    },
    {
      "cell_type": "code",
      "metadata": {
        "id": "MXGKNLauzgif",
        "colab_type": "code",
        "colab": {
          "base_uri": "https://localhost:8080/",
          "height": 34
        },
        "outputId": "28f5858d-0a3b-49a7-86fa-7d16b965fc7f"
      },
      "source": [
        "n_man = 21\n",
        "n_woman = 24\n",
        "p_man = n_man / (n_man + n_woman)\n",
        "p_woman = 1 - p_man\n",
        "print('The probability of not choosing a man in 1 - p_man or, p_woman: {}'.format(str(round(p_woman * 100, 2)) + '%'))\n"
      ],
      "execution_count": 17,
      "outputs": [
        {
          "output_type": "stream",
          "text": [
            "The probability of not choosing a man in 1 - p_man or, p_woman: 53.33%\n"
          ],
          "name": "stdout"
        }
      ]
    },
    {
      "cell_type": "markdown",
      "metadata": {
        "id": "b4Ztnp0czatF",
        "colab_type": "text"
      },
      "source": [
        "\n",
        "3. The probability that Bernice will travel by plane sometime in the next year is 10%. The probability of a plane crash at any time is .005%. What is the probability that Bernice will be in a plane crash sometime in the next year? "
      ]
    },
    {
      "cell_type": "code",
      "metadata": {
        "id": "KLIcKSb6zg-5",
        "colab_type": "code",
        "colab": {
          "base_uri": "https://localhost:8080/",
          "height": 34
        },
        "outputId": "82ae4df0-b9d4-473e-dd2a-6d98c81c84ba"
      },
      "source": [
        "p_bernice_travels = 0.1\n",
        "p_crash = 0.00005\n",
        "p_bernice_crash = p_bernice_travels * p_crash\n",
        "print('The probability that Bernice will be in a plane crash is {}.'.format(str(round(p_bernice_crash, 6) * 100) + '%'))"
      ],
      "execution_count": 24,
      "outputs": [
        {
          "output_type": "stream",
          "text": [
            "The probability that Bernice will be in a plane crash is 0.0005%.\n"
          ],
          "name": "stdout"
        }
      ]
    },
    {
      "cell_type": "markdown",
      "metadata": {
        "id": "Xxjh1HK7zb9C",
        "colab_type": "text"
      },
      "source": [
        "\n",
        "4. A data scientist wants to study the behavior of users on the company website. Each time a user clicks on a link on the website, there is a 5% chance that the user will be asked to complete a short survey about their behavior on the website. The data scientist uses the survey data to conclude that, on average, users spend 15 minutes surfing the company website before moving on to other things. What is wrong with this conclusion?"
      ]
    },
    {
      "cell_type": "markdown",
      "metadata": {
        "id": "6O6Cm5sIAnr2",
        "colab_type": "text"
      },
      "source": [
        "The survey is going to be biased toward frequent and/or more engaged users and not representative of the general population of all website users."
      ]
    },
    {
      "cell_type": "markdown",
      "metadata": {
        "id": "ez46mUZRs_lo",
        "colab_type": "text"
      },
      "source": [
        "###Drill Set 2\n",
        "Now it's time to use Bayes' rule to compute some conditional probabilities. First, look over the numbers and estimate each of the four probabilities, using your intuition. Then, calculate the probabilities using Bayes' rule. Keep track of your work in a Google document or markdown file that you can share with your mentor.\n",
        "\n",
        "A diagnostic test has a 98% probability of giving a positive result when applied to a person suffering from Thripshaw's Disease, and 10% probability of giving a (false) positive when applied to a non-sufferer. It is estimated that 0.5 % of the population are sufferers. Suppose that the test is now administered to a person whose disease status is unknown. Calculate the probability that the test will:\n",
        "\n",
        "1. Be positive"
      ]
    },
    {
      "cell_type": "code",
      "metadata": {
        "id": "oun1aQ6Zzq4C",
        "colab_type": "code",
        "colab": {}
      },
      "source": [
        "true_positive = 0.98\n",
        "false_positive = 0.10\n",
        "disease = 0.005\n",
        "no_disease = 1 - disease"
      ],
      "execution_count": 0,
      "outputs": []
    },
    {
      "cell_type": "code",
      "metadata": {
        "id": "Sgw9KtfpHSE9",
        "colab_type": "code",
        "colab": {
          "base_uri": "https://localhost:8080/",
          "height": 34
        },
        "outputId": "f506c17a-e5d8-4e42-c94e-d39ee2bb95a3"
      },
      "source": [
        "p_positive = true_positive * disease + false_positive * (1 - disease)\n",
        "print('The probability the test will be positive is {}'.format(str(round(positive * 100, 2)) + '%'))"
      ],
      "execution_count": 30,
      "outputs": [
        {
          "output_type": "stream",
          "text": [
            "The probability the test will be positive is 10.44%\n"
          ],
          "name": "stdout"
        }
      ]
    },
    {
      "cell_type": "markdown",
      "metadata": {
        "id": "sD5sBEGpzmLm",
        "colab_type": "text"
      },
      "source": [
        "\n",
        "2. Correctly diagnose a sufferer of Thripshaw's"
      ]
    },
    {
      "cell_type": "code",
      "metadata": {
        "id": "h3MamZiwzpyF",
        "colab_type": "code",
        "colab": {
          "base_uri": "https://localhost:8080/",
          "height": 34
        },
        "outputId": "92a8395f-89da-4494-be26-500ab379749f"
      },
      "source": [
        "print(\"The probability the test will correctly diagnose a sufferer of Thripshaw's is {}\".format(str(round(true_positive * 100, 4)) + '%'))"
      ],
      "execution_count": 42,
      "outputs": [
        {
          "output_type": "stream",
          "text": [
            "The probability the test will correctly diagnose a sufferer of Thripshaw's is 98.0%\n"
          ],
          "name": "stdout"
        }
      ]
    },
    {
      "cell_type": "markdown",
      "metadata": {
        "id": "_4k1MkiCznFy",
        "colab_type": "text"
      },
      "source": [
        "\n",
        "3. Correctly identify a non-sufferer of Thripshaw's"
      ]
    },
    {
      "cell_type": "code",
      "metadata": {
        "id": "EJFSrnFtzrsT",
        "colab_type": "code",
        "colab": {
          "base_uri": "https://localhost:8080/",
          "height": 34
        },
        "outputId": "5bc5265d-de73-4ea1-f37b-66244b1d57b2"
      },
      "source": [
        "print(\"The probability the test will correctly diagnose a non-sufferer of Thripshaw's is {}\".format(str(round(true_negative * 100, 4)) + '%'))"
      ],
      "execution_count": 46,
      "outputs": [
        {
          "output_type": "stream",
          "text": [
            "The probability the test will correctly diagnose a non-sufferer of Thripshaw's is 90.0%\n"
          ],
          "name": "stdout"
        }
      ]
    },
    {
      "cell_type": "markdown",
      "metadata": {
        "id": "bTtwxQxDzn42",
        "colab_type": "text"
      },
      "source": [
        "\n",
        "4. Misclassify the person"
      ]
    },
    {
      "cell_type": "code",
      "metadata": {
        "id": "1g8aCMS-s_w6",
        "colab_type": "code",
        "colab": {
          "base_uri": "https://localhost:8080/",
          "height": 34
        },
        "outputId": "880583c5-1c96-40af-ec50-3cf8ec20b2f2"
      },
      "source": [
        "misclassify = round(1 - (disease * true_positive +  no_disease * true_negative), 4)\n",
        "print(\"The probability the test will misclassify the person is {}\".format(str(round(misclassify * 100, 4)) + '%'))"
      ],
      "execution_count": 47,
      "outputs": [
        {
          "output_type": "stream",
          "text": [
            "The probability the test will misclassify the person is 9.96%\n"
          ],
          "name": "stdout"
        }
      ]
    }
  ]
}