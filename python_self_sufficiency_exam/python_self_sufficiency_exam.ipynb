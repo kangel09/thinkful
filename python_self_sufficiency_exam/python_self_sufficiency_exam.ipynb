{
  "nbformat": 4,
  "nbformat_minor": 0,
  "metadata": {
    "colab": {
      "name": "python_self_sufficiency_exam.ipynb",
      "provenance": [],
      "collapsed_sections": []
    },
    "kernelspec": {
      "name": "python3",
      "display_name": "Python 3"
    }
  },
  "cells": [
    {
      "cell_type": "markdown",
      "metadata": {
        "id": "ueCPfz1BB5aJ",
        "colab_type": "text"
      },
      "source": [
        "###Take the Python self-sufficiency exam\n",
        "In this checkpoint, you'll complete the Python self-sufficiency exam. The point of this exam is for you to demonstrate your mastery of the basics of programming and data analysis in Python.\n",
        "\n",
        "To complete this exam, you should submit a single notebook. It should contain either multiple cells, or multiple distinct sections divided by markdown text headers. For each of the following, produce one cell/section:\n",
        "\n"
      ]
    },
    {
      "cell_type": "code",
      "metadata": {
        "id": "B4szYGR2LSeB",
        "colab_type": "code",
        "colab": {
          "base_uri": "https://localhost:8080/",
          "height": 130
        },
        "outputId": "7e7f4703-028c-4a16-c738-ca26ca912064"
      },
      "source": [
        "# this code allows the display of output from multiple calls without requiring print() each time\n",
        "from IPython.core.interactiveshell import InteractiveShell\n",
        "InteractiveShell.ast_node_interactivity = \"all\"\n",
        "import numpy and np\n",
        "import seaborn as sns\n",
        "import matplotlib.pyplot as plt\n",
        "import warnings\n",
        "warnings.filterwarnings(\"ignore\")\n",
        "sns.set()"
      ],
      "execution_count": 16,
      "outputs": [
        {
          "output_type": "error",
          "ename": "SyntaxError",
          "evalue": "ignored",
          "traceback": [
            "\u001b[0;36m  File \u001b[0;32m\"<ipython-input-16-5ebd6f37c371>\"\u001b[0;36m, line \u001b[0;32m3\u001b[0m\n\u001b[0;31m    import numpy and np\u001b[0m\n\u001b[0m                   ^\u001b[0m\n\u001b[0;31mSyntaxError\u001b[0m\u001b[0;31m:\u001b[0m invalid syntax\n"
          ]
        }
      ]
    },
    {
      "cell_type": "markdown",
      "metadata": {
        "id": "kVmd6_NqCBZs",
        "colab_type": "text"
      },
      "source": [
        "####1. Create a function that reverses a string. For example, given the string \"forward\", your function should return \"drawrof\". Assume all inputs are strings.\n",
        "\n"
      ]
    },
    {
      "cell_type": "code",
      "metadata": {
        "id": "t_FytEGbCLBV",
        "colab_type": "code",
        "colab": {
          "base_uri": "https://localhost:8080/",
          "height": 34
        },
        "outputId": "dafe0c78-0b9a-4700-c820-1292480ba88a"
      },
      "source": [
        "def reverse(string):\n",
        "  index = len(string) - 1\n",
        "  reversed = \"\"\n",
        "  for i in range(index, -1, -1):\n",
        "    reversed += string[i]\n",
        "  return reversed\n",
        "\n",
        "reverse('peach')"
      ],
      "execution_count": 15,
      "outputs": [
        {
          "output_type": "execute_result",
          "data": {
            "text/plain": [
              "'hcaep'"
            ]
          },
          "metadata": {
            "tags": []
          },
          "execution_count": 15
        }
      ]
    },
    {
      "cell_type": "markdown",
      "metadata": {
        "id": "5H2f7s62DB0y",
        "colab_type": "text"
      },
      "source": [
        "####2. Complete the function below that can be used to calculate and return the posterior probability of an event A, given the known outcome of Event B using Bayes Theorem:\n",
        "    def bayes(a, b_given_a, b_given_not_a):\n",
        "\n",
        "      \"\"\"\n",
        "      Calculates P(A | B) using bayes theorem.\n",
        "\n",
        "      Args:\n",
        "          a: P(A)\n",
        "          b_given_a: P(B | A)\n",
        "          b_given_not_a: P(B | ~A)\n",
        "\n",
        "      Returns:\n",
        "          P(A | B)\n",
        "    \"\"\"\n"
      ]
    },
    {
      "cell_type": "code",
      "metadata": {
        "id": "f_p5l0uMJiVU",
        "colab_type": "code",
        "colab": {}
      },
      "source": [
        "def bayes(a, b_given_a, b_given_not_a):\n",
        "  a_given_b = a * b_given_a / (b_given_a + b_given_not_a)\n",
        "  return(a_given_b)"
      ],
      "execution_count": 0,
      "outputs": []
    },
    {
      "cell_type": "markdown",
      "metadata": {
        "id": "MmT6xvhbCLaR",
        "colab_type": "text"
      },
      "source": [
        "####3. Analyze the teams dataset from the Lahman baseball records. This dataset contains season statistics for each Major League Baseball team.\n",
        "\n",
        "a. For all records since 1995, plot histograms for the following variables. Which distribution do they appear to follow, given their meaning?\n",
        "\n",
        " - Stolen bases per game\n",
        " - Wins\n",
        " - Earned run average\n",
        "\n",
        "b. Conduct some further exploratory data analysis on this dataset. Consider qualities like distributions, correlations and trends over time. Try to find something interesting to say about the data, and use visualizations to support your argument."
      ]
    },
    {
      "cell_type": "code",
      "metadata": {
        "id": "YPtyNYA-CX2J",
        "colab_type": "code",
        "colab": {}
      },
      "source": [
        "baseball_url = 'https://raw.githubusercontent.com/kristi-thinkful/thinkful-solutions/master/python_III_pandas/data/houseprices.csv'\n",
        "house_prices = pd.read_csv(baseball_url)\n",
        "baseball = read_csv('')"
      ],
      "execution_count": 0,
      "outputs": []
    },
    {
      "cell_type": "markdown",
      "metadata": {
        "id": "74BgB7guCYJi",
        "colab_type": "text"
      },
      "source": [
        "####4. Choose any two of the variables from 3. Draw 1,000 samples, taking the mean of 100 observations each time. Plot the frequencies of the sample means. What distribution does this appear to follow?\n",
        "* Hint: df['col'].sample(n=50) will draw 50 random observations from df['col']."
      ]
    }
  ]
}